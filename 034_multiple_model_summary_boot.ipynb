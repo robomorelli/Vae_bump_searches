{
 "cells": [
  {
   "cell_type": "code",
   "execution_count": 56,
   "metadata": {},
   "outputs": [],
   "source": [
    "import numpy as np\n",
    "\n",
    "import numpy\n",
    "import pandas as pd\n",
    "from pathlib import Path\n",
    "\n",
    "import json\n",
    "import os\n",
    "import shutil\n",
    "\n",
    "from config import *"
   ]
  },
  {
   "cell_type": "markdown",
   "metadata": {},
   "source": [
    "# Model dependent"
   ]
  },
  {
   "cell_type": "code",
   "execution_count": 62,
   "metadata": {},
   "outputs": [
    {
     "name": "stdout",
     "output_type": "stream",
     "text": [
      "the dictionaries for the following signal injection will be updated: ['550_300']\n"
     ]
    }
   ],
   "source": [
    "sig_names = os.listdir(model_dep_results_boot)\n",
    "print('the dictionaries for the following signal injection will be updated: {}'.format(sig_names))"
   ]
  },
  {
   "cell_type": "code",
   "execution_count": 63,
   "metadata": {},
   "outputs": [
    {
     "name": "stdout",
     "output_type": "stream",
     "text": [
      "the following models will be updated: ['0_1_2_ft_3', '0_1_2_ft_3_addditional_cuts', '0_1_2_ft_3_add_cuts']\n"
     ]
    }
   ],
   "source": [
    "for s_n in sig_names:\n",
    "    fold_names = os.listdir(model_dep_results_boot + '/' + s_n)\n",
    "    print('the following models will be updated: {}'.format(fold_names))"
   ]
  },
  {
   "cell_type": "code",
   "execution_count": 64,
   "metadata": {},
   "outputs": [
    {
     "name": "stdout",
     "output_type": "stream",
     "text": [
      "w_5_10_10\n",
      "model_results/model_dependent/boot//550_300/0_1_2_ft_3/w_5_10_10\n",
      "w_5_10_10\n",
      "model_results/model_dependent/boot//550_300/0_1_2_ft_3_addditional_cuts/w_5_10_10\n",
      "w_5_10_10\n",
      "model_results/model_dependent/boot//550_300/0_1_2_ft_3_add_cuts/w_5_10_10\n"
     ]
    }
   ],
   "source": [
    "path_append =[]\n",
    "for s_n in sig_names:\n",
    "    fold_names = os.listdir(model_dep_results_boot + '/' + s_n)\n",
    "    for fold_name in fold_names:  \n",
    "        fold_name_path = model_dep_results_boot + '/' + s_n + '/' + fold_name\n",
    "        weights_names = os.listdir(fold_name_path)\n",
    "\n",
    "        for i,weights_name in enumerate(weights_names):  \n",
    "            print(weights_name)\n",
    "            path = fold_name_path + '/' + weights_name\n",
    "            filenames = os.listdir(path)\n",
    "            names_csv = [name  for name in filenames if name.split('.')[-1]=='csv']\n",
    "\n",
    "    #         ###CHECK HOSTNAME\n",
    "    #         host = directory\n",
    "            header = True\n",
    "            total = []\n",
    "\n",
    "            for ix, n in enumerate(names_csv):\n",
    "                if 'summary' not in n:\n",
    "                    df = pd.read_csv(path + '/' + n)\n",
    "\n",
    "                    val_loss = df['val_loss'].min()\n",
    "                    KL_loss = df['val_KL_loss'].min()\n",
    "    #                 metric =  df['val_RecoNLL_metric'].min()\n",
    "                    model_num = n.split('.')[0].split('_')[-1]\n",
    "                    epochs = len(df)\n",
    "\n",
    "                    total.append([val_loss,KL_loss, epochs, model_num])\n",
    "\n",
    "            columns = ['val_loss', 'val_KL_loss','epochs','model_num']\n",
    "            analysis = pd.DataFrame(total, columns=columns)\n",
    "\n",
    "            print(path)\n",
    "            path_append.append(path.split('//')[1] + '/' + 'result_summary.csv')\n",
    "\n",
    "            analysis.to_csv(path  + '/' + 'result_summary.csv')"
   ]
  },
  {
   "cell_type": "code",
   "execution_count": 60,
   "metadata": {},
   "outputs": [
    {
     "name": "stdout",
     "output_type": "stream",
     "text": [
      "550_300/0_1_2_ft_3_add_cuts/w_5_10_10/result_summary.csv\n"
     ]
    }
   ],
   "source": [
    "num = 2\n",
    "df = pd.read_csv(model_dep_results_boot+path_append[num])\n",
    "print(path_append[num])"
   ]
  },
  {
   "cell_type": "code",
   "execution_count": 61,
   "metadata": {},
   "outputs": [
    {
     "data": {
      "text/html": [
       "<div>\n",
       "<style scoped>\n",
       "    .dataframe tbody tr th:only-of-type {\n",
       "        vertical-align: middle;\n",
       "    }\n",
       "\n",
       "    .dataframe tbody tr th {\n",
       "        vertical-align: top;\n",
       "    }\n",
       "\n",
       "    .dataframe thead th {\n",
       "        text-align: right;\n",
       "    }\n",
       "</style>\n",
       "<table border=\"1\" class=\"dataframe\">\n",
       "  <thead>\n",
       "    <tr style=\"text-align: right;\">\n",
       "      <th></th>\n",
       "      <th>Unnamed: 0</th>\n",
       "      <th>val_loss</th>\n",
       "      <th>val_KL_loss</th>\n",
       "      <th>epochs</th>\n",
       "      <th>model_num</th>\n",
       "    </tr>\n",
       "  </thead>\n",
       "  <tbody>\n",
       "    <tr>\n",
       "      <th>0</th>\n",
       "      <td>0</td>\n",
       "      <td>19.077719</td>\n",
       "      <td>8.177935</td>\n",
       "      <td>383</td>\n",
       "      <td>4</td>\n",
       "    </tr>\n",
       "    <tr>\n",
       "      <th>1</th>\n",
       "      <td>1</td>\n",
       "      <td>15.917847</td>\n",
       "      <td>7.025515</td>\n",
       "      <td>402</td>\n",
       "      <td>0</td>\n",
       "    </tr>\n",
       "    <tr>\n",
       "      <th>2</th>\n",
       "      <td>2</td>\n",
       "      <td>21.037950</td>\n",
       "      <td>7.606788</td>\n",
       "      <td>349</td>\n",
       "      <td>1</td>\n",
       "    </tr>\n",
       "    <tr>\n",
       "      <th>3</th>\n",
       "      <td>3</td>\n",
       "      <td>12.988833</td>\n",
       "      <td>8.266065</td>\n",
       "      <td>398</td>\n",
       "      <td>10</td>\n",
       "    </tr>\n",
       "    <tr>\n",
       "      <th>4</th>\n",
       "      <td>4</td>\n",
       "      <td>22.621094</td>\n",
       "      <td>7.975765</td>\n",
       "      <td>415</td>\n",
       "      <td>11</td>\n",
       "    </tr>\n",
       "    <tr>\n",
       "      <th>5</th>\n",
       "      <td>5</td>\n",
       "      <td>18.807361</td>\n",
       "      <td>8.373443</td>\n",
       "      <td>342</td>\n",
       "      <td>12</td>\n",
       "    </tr>\n",
       "    <tr>\n",
       "      <th>6</th>\n",
       "      <td>6</td>\n",
       "      <td>13.091474</td>\n",
       "      <td>8.451943</td>\n",
       "      <td>333</td>\n",
       "      <td>13</td>\n",
       "    </tr>\n",
       "    <tr>\n",
       "      <th>7</th>\n",
       "      <td>7</td>\n",
       "      <td>23.801298</td>\n",
       "      <td>8.342905</td>\n",
       "      <td>384</td>\n",
       "      <td>14</td>\n",
       "    </tr>\n",
       "    <tr>\n",
       "      <th>8</th>\n",
       "      <td>8</td>\n",
       "      <td>24.045991</td>\n",
       "      <td>7.609576</td>\n",
       "      <td>428</td>\n",
       "      <td>2</td>\n",
       "    </tr>\n",
       "    <tr>\n",
       "      <th>9</th>\n",
       "      <td>9</td>\n",
       "      <td>17.867175</td>\n",
       "      <td>8.143704</td>\n",
       "      <td>337</td>\n",
       "      <td>3</td>\n",
       "    </tr>\n",
       "    <tr>\n",
       "      <th>10</th>\n",
       "      <td>10</td>\n",
       "      <td>28.051956</td>\n",
       "      <td>7.151565</td>\n",
       "      <td>344</td>\n",
       "      <td>5</td>\n",
       "    </tr>\n",
       "    <tr>\n",
       "      <th>11</th>\n",
       "      <td>11</td>\n",
       "      <td>11.574392</td>\n",
       "      <td>7.934089</td>\n",
       "      <td>384</td>\n",
       "      <td>6</td>\n",
       "    </tr>\n",
       "    <tr>\n",
       "      <th>12</th>\n",
       "      <td>12</td>\n",
       "      <td>32.106718</td>\n",
       "      <td>7.562172</td>\n",
       "      <td>292</td>\n",
       "      <td>7</td>\n",
       "    </tr>\n",
       "    <tr>\n",
       "      <th>13</th>\n",
       "      <td>13</td>\n",
       "      <td>19.224360</td>\n",
       "      <td>8.433139</td>\n",
       "      <td>368</td>\n",
       "      <td>8</td>\n",
       "    </tr>\n",
       "    <tr>\n",
       "      <th>14</th>\n",
       "      <td>14</td>\n",
       "      <td>12.446612</td>\n",
       "      <td>8.392320</td>\n",
       "      <td>373</td>\n",
       "      <td>9</td>\n",
       "    </tr>\n",
       "  </tbody>\n",
       "</table>\n",
       "</div>"
      ],
      "text/plain": [
       "    Unnamed: 0   val_loss  val_KL_loss  epochs  model_num\n",
       "0            0  19.077719     8.177935     383          4\n",
       "1            1  15.917847     7.025515     402          0\n",
       "2            2  21.037950     7.606788     349          1\n",
       "3            3  12.988833     8.266065     398         10\n",
       "4            4  22.621094     7.975765     415         11\n",
       "5            5  18.807361     8.373443     342         12\n",
       "6            6  13.091474     8.451943     333         13\n",
       "7            7  23.801298     8.342905     384         14\n",
       "8            8  24.045991     7.609576     428          2\n",
       "9            9  17.867175     8.143704     337          3\n",
       "10          10  28.051956     7.151565     344          5\n",
       "11          11  11.574392     7.934089     384          6\n",
       "12          12  32.106718     7.562172     292          7\n",
       "13          13  19.224360     8.433139     368          8\n",
       "14          14  12.446612     8.392320     373          9"
      ]
     },
     "execution_count": 61,
     "metadata": {},
     "output_type": "execute_result"
    }
   ],
   "source": [
    "df"
   ]
  },
  {
   "cell_type": "code",
   "execution_count": 7,
   "metadata": {},
   "outputs": [
    {
     "data": {
      "text/plain": [
       "2050.0"
      ]
     },
     "execution_count": 7,
     "metadata": {},
     "output_type": "execute_result"
    }
   ],
   "source": [
    "(2000 + 2100 + 2050)/3"
   ]
  },
  {
   "cell_type": "code",
   "execution_count": 16,
   "metadata": {},
   "outputs": [
    {
     "data": {
      "text/plain": [
       "26.140645235596875"
      ]
     },
     "execution_count": 16,
     "metadata": {},
     "output_type": "execute_result"
    }
   ],
   "source": [
    "np.sqrt(2050.0)/np.sqrt(3)"
   ]
  },
  {
   "cell_type": "code",
   "execution_count": 10,
   "metadata": {},
   "outputs": [],
   "source": [
    "err1 = np.sqrt(2000)\n",
    "err2 = np.sqrt(2100)\n",
    "err3 = np.sqrt(2050)"
   ]
  },
  {
   "cell_type": "code",
   "execution_count": 14,
   "metadata": {},
   "outputs": [
    {
     "data": {
      "text/plain": [
       "26.140645235596867"
      ]
     },
     "execution_count": 14,
     "metadata": {},
     "output_type": "execute_result"
    }
   ],
   "source": [
    "(1/3)*np.sqrt(err1**2 + err2**2 + err3**2)"
   ]
  },
  {
   "cell_type": "code",
   "execution_count": 46,
   "metadata": {},
   "outputs": [
    {
     "data": {
      "text/plain": [
       "True"
      ]
     },
     "execution_count": 46,
     "metadata": {},
     "output_type": "execute_result"
    }
   ],
   "source": [
    "[x for x in '1234321'][:3]==[x for x in '1234321'][::-1][:3]"
   ]
  },
  {
   "cell_type": "markdown",
   "metadata": {},
   "source": [
    "# Model Independent"
   ]
  },
  {
   "cell_type": "code",
   "execution_count": 13,
   "metadata": {},
   "outputs": [
    {
     "name": "stdout",
     "output_type": "stream",
     "text": [
      "the dictionaries for the following models will be updated: ['.ipynb_checkpoints', 'all_ft_0_1_2_3_4_5_6_7_8', 'all_ft_0_1_3_8', 'bump_feat_0_1_2_3_4_5_6_ft_7_mbb_100_350_all_cuts_1000']\n"
     ]
    }
   ],
   "source": [
    "fold_names = os.listdir(model_results_bump_multiple)\n",
    "print('the dictionaries for the following models will be updated: {}'.format(fold_names))"
   ]
  },
  {
   "cell_type": "code",
   "execution_count": 14,
   "metadata": {},
   "outputs": [
    {
     "name": "stdout",
     "output_type": "stream",
     "text": [
      "w_1_1_2_1_1_1_1_1\n",
      "model_results/bump_multiple_train//all_ft_0_1_2_3_4_5_6_7_8/w_1_1_2_1_1_1_1_1\n",
      "w_5_10_10\n",
      "model_results/bump_multiple_train//all_ft_0_1_3_8/w_5_10_10\n",
      "bump_weights_1_1_2_1_1_1_1\n",
      "model_results/bump_multiple_train//bump_feat_0_1_2_3_4_5_6_ft_7_mbb_100_350_all_cuts_1000/bump_weights_1_1_2_1_1_1_1\n"
     ]
    }
   ],
   "source": [
    "path_append = []\n",
    "for fold_name in fold_names:  \n",
    "    fold_name_path = model_results_bump_multiple + '/' + fold_name\n",
    "    weights_names = os.listdir(fold_name_path)\n",
    "\n",
    "    for weights_name in weights_names:  \n",
    "        print(weights_name)\n",
    "        path = fold_name_path + '/' + weights_name\n",
    "        filenames = os.listdir(path)\n",
    "        names_csv = [name  for name in filenames if name.split('.')[-1]=='csv']\n",
    "\n",
    "#         ###CHECK HOSTNAME\n",
    "#         host = directory\n",
    "        header = True\n",
    "        total = []\n",
    "\n",
    "        for ix, n in enumerate(names_csv):\n",
    "            if 'summary' not in n:\n",
    "                df = pd.read_csv(path + '/' + n)\n",
    "\n",
    "                val_loss = df['val_loss'].min()\n",
    "                KL_loss = df['val_KL_loss'].min()\n",
    "#                 metric =  df['val_RecoNLL_metric'].min()\n",
    "                model_num = n.split('.')[0].split('_')[-1]\n",
    "                epochs = len(df)\n",
    "\n",
    "                total.append([val_loss,KL_loss, epochs, model_num])\n",
    "\n",
    "        columns = ['val_loss', 'val_KL_loss','epochs','model_num']\n",
    "        analysis = pd.DataFrame(total, columns=columns)\n",
    "\n",
    "        print(path)\n",
    "        path_append.append(path.split('//')[1] + '/' + 'result_summary.csv')\n",
    "\n",
    "        analysis.to_csv(path  + '/' + 'result_summary.csv')"
   ]
  },
  {
   "cell_type": "code",
   "execution_count": 21,
   "metadata": {},
   "outputs": [
    {
     "data": {
      "text/html": [
       "<div>\n",
       "<style scoped>\n",
       "    .dataframe tbody tr th:only-of-type {\n",
       "        vertical-align: middle;\n",
       "    }\n",
       "\n",
       "    .dataframe tbody tr th {\n",
       "        vertical-align: top;\n",
       "    }\n",
       "\n",
       "    .dataframe thead th {\n",
       "        text-align: right;\n",
       "    }\n",
       "</style>\n",
       "<table border=\"1\" class=\"dataframe\">\n",
       "  <thead>\n",
       "    <tr style=\"text-align: right;\">\n",
       "      <th></th>\n",
       "      <th>val_loss</th>\n",
       "      <th>val_KL_loss</th>\n",
       "      <th>epochs</th>\n",
       "      <th>model_num</th>\n",
       "    </tr>\n",
       "  </thead>\n",
       "  <tbody>\n",
       "    <tr>\n",
       "      <th>0</th>\n",
       "      <td>15.745034</td>\n",
       "      <td>5.562103</td>\n",
       "      <td>171</td>\n",
       "      <td>0</td>\n",
       "    </tr>\n",
       "    <tr>\n",
       "      <th>1</th>\n",
       "      <td>14.970209</td>\n",
       "      <td>4.772972</td>\n",
       "      <td>186</td>\n",
       "      <td>1</td>\n",
       "    </tr>\n",
       "    <tr>\n",
       "      <th>2</th>\n",
       "      <td>15.457056</td>\n",
       "      <td>4.781938</td>\n",
       "      <td>196</td>\n",
       "      <td>2</td>\n",
       "    </tr>\n",
       "    <tr>\n",
       "      <th>3</th>\n",
       "      <td>15.454162</td>\n",
       "      <td>4.566271</td>\n",
       "      <td>159</td>\n",
       "      <td>3</td>\n",
       "    </tr>\n",
       "    <tr>\n",
       "      <th>4</th>\n",
       "      <td>15.675766</td>\n",
       "      <td>4.730432</td>\n",
       "      <td>221</td>\n",
       "      <td>4</td>\n",
       "    </tr>\n",
       "  </tbody>\n",
       "</table>\n",
       "</div>"
      ],
      "text/plain": [
       "    val_loss  val_KL_loss  epochs model_num\n",
       "0  15.745034     5.562103     171         0\n",
       "1  14.970209     4.772972     186         1\n",
       "2  15.457056     4.781938     196         2\n",
       "3  15.454162     4.566271     159         3\n",
       "4  15.675766     4.730432     221         4"
      ]
     },
     "execution_count": 21,
     "metadata": {},
     "output_type": "execute_result"
    }
   ],
   "source": [
    "analysis"
   ]
  },
  {
   "cell_type": "code",
   "execution_count": 19,
   "metadata": {},
   "outputs": [],
   "source": [
    "df = pd.read_csv(model_results_bump_multiple+path_append[2])"
   ]
  },
  {
   "cell_type": "code",
   "execution_count": 20,
   "metadata": {},
   "outputs": [
    {
     "data": {
      "text/html": [
       "<div>\n",
       "<style scoped>\n",
       "    .dataframe tbody tr th:only-of-type {\n",
       "        vertical-align: middle;\n",
       "    }\n",
       "\n",
       "    .dataframe tbody tr th {\n",
       "        vertical-align: top;\n",
       "    }\n",
       "\n",
       "    .dataframe thead th {\n",
       "        text-align: right;\n",
       "    }\n",
       "</style>\n",
       "<table border=\"1\" class=\"dataframe\">\n",
       "  <thead>\n",
       "    <tr style=\"text-align: right;\">\n",
       "      <th></th>\n",
       "      <th>Unnamed: 0</th>\n",
       "      <th>val_loss</th>\n",
       "      <th>val_KL_loss</th>\n",
       "      <th>epochs</th>\n",
       "      <th>model_num</th>\n",
       "    </tr>\n",
       "  </thead>\n",
       "  <tbody>\n",
       "    <tr>\n",
       "      <th>0</th>\n",
       "      <td>0</td>\n",
       "      <td>15.745034</td>\n",
       "      <td>5.562103</td>\n",
       "      <td>171</td>\n",
       "      <td>0</td>\n",
       "    </tr>\n",
       "    <tr>\n",
       "      <th>1</th>\n",
       "      <td>1</td>\n",
       "      <td>14.970209</td>\n",
       "      <td>4.772972</td>\n",
       "      <td>186</td>\n",
       "      <td>1</td>\n",
       "    </tr>\n",
       "    <tr>\n",
       "      <th>2</th>\n",
       "      <td>2</td>\n",
       "      <td>15.457056</td>\n",
       "      <td>4.781938</td>\n",
       "      <td>196</td>\n",
       "      <td>2</td>\n",
       "    </tr>\n",
       "    <tr>\n",
       "      <th>3</th>\n",
       "      <td>3</td>\n",
       "      <td>15.454162</td>\n",
       "      <td>4.566271</td>\n",
       "      <td>159</td>\n",
       "      <td>3</td>\n",
       "    </tr>\n",
       "    <tr>\n",
       "      <th>4</th>\n",
       "      <td>4</td>\n",
       "      <td>15.675766</td>\n",
       "      <td>4.730432</td>\n",
       "      <td>221</td>\n",
       "      <td>4</td>\n",
       "    </tr>\n",
       "  </tbody>\n",
       "</table>\n",
       "</div>"
      ],
      "text/plain": [
       "   Unnamed: 0   val_loss  val_KL_loss  epochs  model_num\n",
       "0           0  15.745034     5.562103     171          0\n",
       "1           1  14.970209     4.772972     186          1\n",
       "2           2  15.457056     4.781938     196          2\n",
       "3           3  15.454162     4.566271     159          3\n",
       "4           4  15.675766     4.730432     221          4"
      ]
     },
     "execution_count": 20,
     "metadata": {},
     "output_type": "execute_result"
    }
   ],
   "source": [
    "df"
   ]
  },
  {
   "cell_type": "code",
   "execution_count": null,
   "metadata": {},
   "outputs": [],
   "source": []
  }
 ],
 "metadata": {
  "kernelspec": {
   "display_name": "Python 3",
   "language": "python",
   "name": "python3"
  },
  "language_info": {
   "codemirror_mode": {
    "name": "ipython",
    "version": 3
   },
   "file_extension": ".py",
   "mimetype": "text/x-python",
   "name": "python",
   "nbconvert_exporter": "python",
   "pygments_lexer": "ipython3",
   "version": "3.6.9"
  }
 },
 "nbformat": 4,
 "nbformat_minor": 4
}
