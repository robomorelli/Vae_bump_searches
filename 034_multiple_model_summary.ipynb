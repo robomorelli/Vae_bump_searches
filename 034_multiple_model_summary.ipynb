{
 "cells": [
  {
   "cell_type": "code",
   "execution_count": 30,
   "metadata": {},
   "outputs": [],
   "source": [
    "import numpy as np\n",
    "\n",
    "import numpy\n",
    "import pandas as pd\n",
    "from pathlib import Path\n",
    "\n",
    "import json\n",
    "import os\n",
    "import shutil\n",
    "\n",
    "from config import *"
   ]
  },
  {
   "cell_type": "markdown",
   "metadata": {},
   "source": [
    "# Model dependent"
   ]
  },
  {
   "cell_type": "code",
   "execution_count": 31,
   "metadata": {},
   "outputs": [
    {
     "name": "stdout",
     "output_type": "stream",
     "text": [
      "the dictionaries for the following signal injection will be updated: ['187_12', '250_75', '275_50', '300_100', '500_100', '550_300', '600_50', '750_250', '800_400']\n"
     ]
    }
   ],
   "source": [
    "sig_names = os.listdir(model_dep_results_bump_multiple)\n",
    "print('the dictionaries for the following signal injection will be updated: {}'.format(sig_names))"
   ]
  },
  {
   "cell_type": "code",
   "execution_count": 32,
   "metadata": {},
   "outputs": [
    {
     "data": {
      "text/plain": [
       "'model_results/model_dependent/bump_multiple_train/'"
      ]
     },
     "execution_count": 32,
     "metadata": {},
     "output_type": "execute_result"
    }
   ],
   "source": [
    "model_dep_results_bump_multiple"
   ]
  },
  {
   "cell_type": "code",
   "execution_count": 33,
   "metadata": {},
   "outputs": [
    {
     "name": "stdout",
     "output_type": "stream",
     "text": [
      "the following models will be updated: ['0_1_2_3_4_5_6_ft_7_mbb_100_350', '0_1_2_ft_3', 'all_ft_0_1_2_3_4_5_6_7_8', 'all_ft_0_1_3_8']\n",
      "the following models will be updated: ['0_1_2_ft_3']\n",
      "the following models will be updated: ['0_1_2_ft_3']\n",
      "the following models will be updated: ['all_ft_0_1_3_8']\n",
      "the following models will be updated: ['bump_feat_0_1_2_3_4_5_6_ft_7_mbb_100_350_all_cuts_1000', 'bump_feat_0_1_2_ft_7_mbb_100_350_all_cuts_1000']\n",
      "the following models will be updated: []\n",
      "the following models will be updated: ['0_1_2_3_4_5_6_ft_7_mbb_100_350', '0_1_2_ft_3', '0_1_2_ft_7_mbb_100_350', 'all_ft_0_1_2_3_4_5_6_7_8', 'all_ft_0_1_3_4_5_6_7_8']\n",
      "the following models will be updated: ['.zip', '0_1_2_ft_3', '0_1_2_ft_3_atlas', 'all_ft_0_1_2_3_4_5_6_7_8', 'all_ft_0_1_3_8']\n",
      "the following models will be updated: ['all_ft_0_1_3_8']\n"
     ]
    }
   ],
   "source": [
    "for s_n in sig_names:\n",
    "    fold_names = os.listdir(model_dep_results_bump_multiple + '/' + s_n)\n",
    "    print('the following models will be updated: {}'.format(fold_names))"
   ]
  },
  {
   "cell_type": "code",
   "execution_count": 34,
   "metadata": {},
   "outputs": [
    {
     "name": "stdout",
     "output_type": "stream",
     "text": [
      "w_1_1_2_1_1_1_1\n",
      "model_results/model_dependent/bump_multiple_train//187_12/0_1_2_3_4_5_6_ft_7_mbb_100_350/w_1_1_2_1_1_1_1\n",
      "w_5_10_10\n",
      "model_results/model_dependent/bump_multiple_train//187_12/0_1_2_ft_3/w_5_10_10\n",
      "w_1_1_2_1_1_1_1_1\n",
      "model_results/model_dependent/bump_multiple_train//187_12/all_ft_0_1_2_3_4_5_6_7_8/w_1_1_2_1_1_1_1_1\n",
      "w_5_10_10\n",
      "model_results/model_dependent/bump_multiple_train//187_12/all_ft_0_1_3_8/w_5_10_10\n",
      "w_5_10_10\n",
      "model_results/model_dependent/bump_multiple_train//250_75/0_1_2_ft_3/w_5_10_10\n",
      "w_5_10_10\n",
      "model_results/model_dependent/bump_multiple_train//275_50/0_1_2_ft_3/w_5_10_10\n",
      "w_5_10_10\n",
      "model_results/model_dependent/bump_multiple_train//300_100/all_ft_0_1_3_8/w_5_10_10\n",
      "bump_weights_1_1_1_1_1_1_1\n",
      "model_results/model_dependent/bump_multiple_train//500_100/bump_feat_0_1_2_3_4_5_6_ft_7_mbb_100_350_all_cuts_1000/bump_weights_1_1_1_1_1_1_1\n",
      "bump_weights_5_10_10_1_1_1_1\n",
      "model_results/model_dependent/bump_multiple_train//500_100/bump_feat_0_1_2_3_4_5_6_ft_7_mbb_100_350_all_cuts_1000/bump_weights_5_10_10_1_1_1_1\n",
      "bump_weights_5_10_10\n",
      "model_results/model_dependent/bump_multiple_train//500_100/bump_feat_0_1_2_ft_7_mbb_100_350_all_cuts_1000/bump_weights_5_10_10\n",
      "w_1_1_2_1_1_1_1\n",
      "model_results/model_dependent/bump_multiple_train//600_50/0_1_2_3_4_5_6_ft_7_mbb_100_350/w_1_1_2_1_1_1_1\n",
      "w_5_10_10\n",
      "model_results/model_dependent/bump_multiple_train//600_50/0_1_2_ft_3/w_5_10_10\n",
      "w_5_5_10\n",
      "model_results/model_dependent/bump_multiple_train//600_50/0_1_2_ft_7_mbb_100_350/w_5_5_10\n",
      "w_1_1_2_1_1_1_1_1\n",
      "model_results/model_dependent/bump_multiple_train//600_50/all_ft_0_1_2_3_4_5_6_7_8/w_1_1_2_1_1_1_1_1\n",
      "w_1_1_1_1_1_1_1\n",
      "model_results/model_dependent/bump_multiple_train//600_50/all_ft_0_1_3_4_5_6_7_8/w_1_1_1_1_1_1_1\n",
      "w_5_10_10\n",
      "model_results/model_dependent/bump_multiple_train//750_250/0_1_2_ft_3/w_5_10_10\n",
      "w_5_10_10\n",
      "model_results/model_dependent/bump_multiple_train//750_250/0_1_2_ft_3_atlas/w_5_10_10\n",
      "w_1_1_1_1_1_1_1_1\n",
      "model_results/model_dependent/bump_multiple_train//750_250/all_ft_0_1_2_3_4_5_6_7_8/w_1_1_1_1_1_1_1_1\n",
      "w_5_10_10\n",
      "model_results/model_dependent/bump_multiple_train//750_250/all_ft_0_1_3_8/w_5_10_10\n",
      "w_5_10_10\n",
      "model_results/model_dependent/bump_multiple_train//800_400/all_ft_0_1_3_8/w_5_10_10\n"
     ]
    }
   ],
   "source": [
    "path_append =[]\n",
    "for s_n in sig_names:\n",
    "    fold_names = os.listdir(model_dep_results_bump_multiple + '/' + s_n)\n",
    "    for fold_name in fold_names:  \n",
    "        fold_name_path = model_dep_results_bump_multiple + '/' + s_n + '/' + fold_name\n",
    "        try:\n",
    "            weights_names = os.listdir(fold_name_path)\n",
    "        except:\n",
    "            continue\n",
    "\n",
    "        for i,weights_name in enumerate(weights_names):  \n",
    "            print(weights_name)\n",
    "            path = fold_name_path + '/' + weights_name\n",
    "            filenames = os.listdir(path)\n",
    "            names_csv = [name  for name in filenames if name.split('.')[-1]=='csv']\n",
    "\n",
    "    #         ###CHECK HOSTNAME\n",
    "    #         host = directory\n",
    "            header = True\n",
    "            total = []\n",
    "\n",
    "            for ix, n in enumerate(names_csv):\n",
    "                if 'summary' not in n:\n",
    "                    df = pd.read_csv(path + '/' + n)\n",
    "\n",
    "                    val_loss = df['val_loss'].min()\n",
    "                    KL_loss = df['val_KL_loss'].min()\n",
    "    #                 metric =  df['val_RecoNLL_metric'].min()\n",
    "                    model_num = n.split('.')[0].split('_')[-1]\n",
    "                    epochs = len(df)\n",
    "\n",
    "                    total.append([val_loss,KL_loss, epochs, model_num])\n",
    "\n",
    "            columns = ['val_loss', 'val_KL_loss','epochs','model_num']\n",
    "            analysis = pd.DataFrame(total, columns=columns)\n",
    "\n",
    "            print(path)\n",
    "            path_append.append(path.split('//')[1] + '/' + 'result_summary.csv')\n",
    "\n",
    "            analysis.to_csv(path  + '/' + 'result_summary.csv')"
   ]
  },
  {
   "cell_type": "code",
   "execution_count": 42,
   "metadata": {},
   "outputs": [
    {
     "name": "stdout",
     "output_type": "stream",
     "text": [
      "187_12/all_ft_0_1_2_3_4_5_6_7_8/w_1_1_2_1_1_1_1_1/result_summary.csv\n"
     ]
    }
   ],
   "source": [
    "num = 2\n",
    "df = pd.read_csv(model_dep_results_bump_multiple+path_append[num])\n",
    "print(path_append[num])"
   ]
  },
  {
   "cell_type": "code",
   "execution_count": 43,
   "metadata": {},
   "outputs": [
    {
     "data": {
      "text/html": [
       "<div>\n",
       "<style scoped>\n",
       "    .dataframe tbody tr th:only-of-type {\n",
       "        vertical-align: middle;\n",
       "    }\n",
       "\n",
       "    .dataframe tbody tr th {\n",
       "        vertical-align: top;\n",
       "    }\n",
       "\n",
       "    .dataframe thead th {\n",
       "        text-align: right;\n",
       "    }\n",
       "</style>\n",
       "<table border=\"1\" class=\"dataframe\">\n",
       "  <thead>\n",
       "    <tr style=\"text-align: right;\">\n",
       "      <th></th>\n",
       "      <th>Unnamed: 0</th>\n",
       "      <th>val_loss</th>\n",
       "      <th>val_KL_loss</th>\n",
       "      <th>epochs</th>\n",
       "      <th>model_num</th>\n",
       "    </tr>\n",
       "  </thead>\n",
       "  <tbody>\n",
       "    <tr>\n",
       "      <th>0</th>\n",
       "      <td>0</td>\n",
       "      <td>15.573475</td>\n",
       "      <td>6.933908</td>\n",
       "      <td>221</td>\n",
       "      <td>0</td>\n",
       "    </tr>\n",
       "    <tr>\n",
       "      <th>1</th>\n",
       "      <td>1</td>\n",
       "      <td>16.392063</td>\n",
       "      <td>7.382123</td>\n",
       "      <td>230</td>\n",
       "      <td>1</td>\n",
       "    </tr>\n",
       "    <tr>\n",
       "      <th>2</th>\n",
       "      <td>2</td>\n",
       "      <td>15.815112</td>\n",
       "      <td>5.976330</td>\n",
       "      <td>215</td>\n",
       "      <td>2</td>\n",
       "    </tr>\n",
       "  </tbody>\n",
       "</table>\n",
       "</div>"
      ],
      "text/plain": [
       "   Unnamed: 0   val_loss  val_KL_loss  epochs  model_num\n",
       "0           0  15.573475     6.933908     221          0\n",
       "1           1  16.392063     7.382123     230          1\n",
       "2           2  15.815112     5.976330     215          2"
      ]
     },
     "execution_count": 43,
     "metadata": {},
     "output_type": "execute_result"
    }
   ],
   "source": [
    "df"
   ]
  },
  {
   "cell_type": "code",
   "execution_count": 7,
   "metadata": {},
   "outputs": [
    {
     "data": {
      "text/plain": [
       "2050.0"
      ]
     },
     "execution_count": 7,
     "metadata": {},
     "output_type": "execute_result"
    }
   ],
   "source": [
    "(2000 + 2100 + 2050)/3"
   ]
  },
  {
   "cell_type": "code",
   "execution_count": 16,
   "metadata": {},
   "outputs": [
    {
     "data": {
      "text/plain": [
       "26.140645235596875"
      ]
     },
     "execution_count": 16,
     "metadata": {},
     "output_type": "execute_result"
    }
   ],
   "source": [
    "np.sqrt(2050.0)/np.sqrt(3)"
   ]
  },
  {
   "cell_type": "code",
   "execution_count": 10,
   "metadata": {},
   "outputs": [],
   "source": [
    "err1 = np.sqrt(2000)\n",
    "err2 = np.sqrt(2100)\n",
    "err3 = np.sqrt(2050)"
   ]
  },
  {
   "cell_type": "code",
   "execution_count": 14,
   "metadata": {},
   "outputs": [
    {
     "data": {
      "text/plain": [
       "26.140645235596867"
      ]
     },
     "execution_count": 14,
     "metadata": {},
     "output_type": "execute_result"
    }
   ],
   "source": [
    "(1/3)*np.sqrt(err1**2 + err2**2 + err3**2)"
   ]
  },
  {
   "cell_type": "code",
   "execution_count": 46,
   "metadata": {},
   "outputs": [
    {
     "data": {
      "text/plain": [
       "True"
      ]
     },
     "execution_count": 46,
     "metadata": {},
     "output_type": "execute_result"
    }
   ],
   "source": [
    "[x for x in '1234321'][:3]==[x for x in '1234321'][::-1][:3]"
   ]
  },
  {
   "cell_type": "markdown",
   "metadata": {},
   "source": [
    "# Model Independent"
   ]
  },
  {
   "cell_type": "code",
   "execution_count": 13,
   "metadata": {},
   "outputs": [
    {
     "name": "stdout",
     "output_type": "stream",
     "text": [
      "the dictionaries for the following models will be updated: ['.ipynb_checkpoints', 'all_ft_0_1_2_3_4_5_6_7_8', 'all_ft_0_1_3_8', 'bump_feat_0_1_2_3_4_5_6_ft_7_mbb_100_350_all_cuts_1000']\n"
     ]
    }
   ],
   "source": [
    "fold_names = os.listdir(model_results_bump_multiple)\n",
    "print('the dictionaries for the following models will be updated: {}'.format(fold_names))"
   ]
  },
  {
   "cell_type": "code",
   "execution_count": 14,
   "metadata": {},
   "outputs": [
    {
     "name": "stdout",
     "output_type": "stream",
     "text": [
      "w_1_1_2_1_1_1_1_1\n",
      "model_results/bump_multiple_train//all_ft_0_1_2_3_4_5_6_7_8/w_1_1_2_1_1_1_1_1\n",
      "w_5_10_10\n",
      "model_results/bump_multiple_train//all_ft_0_1_3_8/w_5_10_10\n",
      "bump_weights_1_1_2_1_1_1_1\n",
      "model_results/bump_multiple_train//bump_feat_0_1_2_3_4_5_6_ft_7_mbb_100_350_all_cuts_1000/bump_weights_1_1_2_1_1_1_1\n"
     ]
    }
   ],
   "source": [
    "path_append = []\n",
    "for fold_name in fold_names:  \n",
    "    fold_name_path = model_results_bump_multiple + '/' + fold_name\n",
    "    weights_names = os.listdir(fold_name_path)\n",
    "\n",
    "    for weights_name in weights_names:  \n",
    "        print(weights_name)\n",
    "        path = fold_name_path + '/' + weights_name\n",
    "        filenames = os.listdir(path)\n",
    "        names_csv = [name  for name in filenames if name.split('.')[-1]=='csv']\n",
    "\n",
    "#         ###CHECK HOSTNAME\n",
    "#         host = directory\n",
    "        header = True\n",
    "        total = []\n",
    "\n",
    "        for ix, n in enumerate(names_csv):\n",
    "            if 'summary' not in n:\n",
    "                df = pd.read_csv(path + '/' + n)\n",
    "\n",
    "                val_loss = df['val_loss'].min()\n",
    "                KL_loss = df['val_KL_loss'].min()\n",
    "#                 metric =  df['val_RecoNLL_metric'].min()\n",
    "                model_num = n.split('.')[0].split('_')[-1]\n",
    "                epochs = len(df)\n",
    "\n",
    "                total.append([val_loss,KL_loss, epochs, model_num])\n",
    "\n",
    "        columns = ['val_loss', 'val_KL_loss','epochs','model_num']\n",
    "        analysis = pd.DataFrame(total, columns=columns)\n",
    "\n",
    "        print(path)\n",
    "        path_append.append(path.split('//')[1] + '/' + 'result_summary.csv')\n",
    "\n",
    "        analysis.to_csv(path  + '/' + 'result_summary.csv')"
   ]
  },
  {
   "cell_type": "code",
   "execution_count": 21,
   "metadata": {},
   "outputs": [
    {
     "data": {
      "text/html": [
       "<div>\n",
       "<style scoped>\n",
       "    .dataframe tbody tr th:only-of-type {\n",
       "        vertical-align: middle;\n",
       "    }\n",
       "\n",
       "    .dataframe tbody tr th {\n",
       "        vertical-align: top;\n",
       "    }\n",
       "\n",
       "    .dataframe thead th {\n",
       "        text-align: right;\n",
       "    }\n",
       "</style>\n",
       "<table border=\"1\" class=\"dataframe\">\n",
       "  <thead>\n",
       "    <tr style=\"text-align: right;\">\n",
       "      <th></th>\n",
       "      <th>val_loss</th>\n",
       "      <th>val_KL_loss</th>\n",
       "      <th>epochs</th>\n",
       "      <th>model_num</th>\n",
       "    </tr>\n",
       "  </thead>\n",
       "  <tbody>\n",
       "    <tr>\n",
       "      <th>0</th>\n",
       "      <td>15.745034</td>\n",
       "      <td>5.562103</td>\n",
       "      <td>171</td>\n",
       "      <td>0</td>\n",
       "    </tr>\n",
       "    <tr>\n",
       "      <th>1</th>\n",
       "      <td>14.970209</td>\n",
       "      <td>4.772972</td>\n",
       "      <td>186</td>\n",
       "      <td>1</td>\n",
       "    </tr>\n",
       "    <tr>\n",
       "      <th>2</th>\n",
       "      <td>15.457056</td>\n",
       "      <td>4.781938</td>\n",
       "      <td>196</td>\n",
       "      <td>2</td>\n",
       "    </tr>\n",
       "    <tr>\n",
       "      <th>3</th>\n",
       "      <td>15.454162</td>\n",
       "      <td>4.566271</td>\n",
       "      <td>159</td>\n",
       "      <td>3</td>\n",
       "    </tr>\n",
       "    <tr>\n",
       "      <th>4</th>\n",
       "      <td>15.675766</td>\n",
       "      <td>4.730432</td>\n",
       "      <td>221</td>\n",
       "      <td>4</td>\n",
       "    </tr>\n",
       "  </tbody>\n",
       "</table>\n",
       "</div>"
      ],
      "text/plain": [
       "    val_loss  val_KL_loss  epochs model_num\n",
       "0  15.745034     5.562103     171         0\n",
       "1  14.970209     4.772972     186         1\n",
       "2  15.457056     4.781938     196         2\n",
       "3  15.454162     4.566271     159         3\n",
       "4  15.675766     4.730432     221         4"
      ]
     },
     "execution_count": 21,
     "metadata": {},
     "output_type": "execute_result"
    }
   ],
   "source": [
    "analysis"
   ]
  },
  {
   "cell_type": "code",
   "execution_count": 19,
   "metadata": {},
   "outputs": [],
   "source": [
    "df = pd.read_csv(model_results_bump_multiple+path_append[2])"
   ]
  },
  {
   "cell_type": "code",
   "execution_count": 20,
   "metadata": {},
   "outputs": [
    {
     "data": {
      "text/html": [
       "<div>\n",
       "<style scoped>\n",
       "    .dataframe tbody tr th:only-of-type {\n",
       "        vertical-align: middle;\n",
       "    }\n",
       "\n",
       "    .dataframe tbody tr th {\n",
       "        vertical-align: top;\n",
       "    }\n",
       "\n",
       "    .dataframe thead th {\n",
       "        text-align: right;\n",
       "    }\n",
       "</style>\n",
       "<table border=\"1\" class=\"dataframe\">\n",
       "  <thead>\n",
       "    <tr style=\"text-align: right;\">\n",
       "      <th></th>\n",
       "      <th>Unnamed: 0</th>\n",
       "      <th>val_loss</th>\n",
       "      <th>val_KL_loss</th>\n",
       "      <th>epochs</th>\n",
       "      <th>model_num</th>\n",
       "    </tr>\n",
       "  </thead>\n",
       "  <tbody>\n",
       "    <tr>\n",
       "      <th>0</th>\n",
       "      <td>0</td>\n",
       "      <td>15.745034</td>\n",
       "      <td>5.562103</td>\n",
       "      <td>171</td>\n",
       "      <td>0</td>\n",
       "    </tr>\n",
       "    <tr>\n",
       "      <th>1</th>\n",
       "      <td>1</td>\n",
       "      <td>14.970209</td>\n",
       "      <td>4.772972</td>\n",
       "      <td>186</td>\n",
       "      <td>1</td>\n",
       "    </tr>\n",
       "    <tr>\n",
       "      <th>2</th>\n",
       "      <td>2</td>\n",
       "      <td>15.457056</td>\n",
       "      <td>4.781938</td>\n",
       "      <td>196</td>\n",
       "      <td>2</td>\n",
       "    </tr>\n",
       "    <tr>\n",
       "      <th>3</th>\n",
       "      <td>3</td>\n",
       "      <td>15.454162</td>\n",
       "      <td>4.566271</td>\n",
       "      <td>159</td>\n",
       "      <td>3</td>\n",
       "    </tr>\n",
       "    <tr>\n",
       "      <th>4</th>\n",
       "      <td>4</td>\n",
       "      <td>15.675766</td>\n",
       "      <td>4.730432</td>\n",
       "      <td>221</td>\n",
       "      <td>4</td>\n",
       "    </tr>\n",
       "  </tbody>\n",
       "</table>\n",
       "</div>"
      ],
      "text/plain": [
       "   Unnamed: 0   val_loss  val_KL_loss  epochs  model_num\n",
       "0           0  15.745034     5.562103     171          0\n",
       "1           1  14.970209     4.772972     186          1\n",
       "2           2  15.457056     4.781938     196          2\n",
       "3           3  15.454162     4.566271     159          3\n",
       "4           4  15.675766     4.730432     221          4"
      ]
     },
     "execution_count": 20,
     "metadata": {},
     "output_type": "execute_result"
    }
   ],
   "source": [
    "df"
   ]
  },
  {
   "cell_type": "code",
   "execution_count": null,
   "metadata": {},
   "outputs": [],
   "source": []
  }
 ],
 "metadata": {
  "kernelspec": {
   "display_name": "Python 3",
   "language": "python",
   "name": "python3"
  },
  "language_info": {
   "codemirror_mode": {
    "name": "ipython",
    "version": 3
   },
   "file_extension": ".py",
   "mimetype": "text/x-python",
   "name": "python",
   "nbconvert_exporter": "python",
   "pygments_lexer": "ipython3",
   "version": "3.6.9"
  }
 },
 "nbformat": 4,
 "nbformat_minor": 4
}
